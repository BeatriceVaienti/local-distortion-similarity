{
 "cells": [
  {
   "cell_type": "code",
   "execution_count": 2,
   "metadata": {},
   "outputs": [],
   "source": [
    "import sys\n",
    "sys.path.append('../')\n",
    "import os\n",
    "import pickle\n",
    "import tqdm\n",
    "import numpy as np\n",
    "import pandas as pd\n",
    "import seaborn as sns   \n",
    "import matplotlib.pyplot as plt\n",
    "import scipy.cluster.hierarchy as sch\n",
    "import modules.comparison as comparison\n",
    "import matplotlib.patches as patches\n",
    "import matplotlib.colors as col\n",
    "from colorspacious import cspace_convert  \n",
    "import json\n",
    "\n",
    "\n",
    "similarity_threshold = 0.998\n",
    "eps = 0.12"
   ]
  },
  {
   "cell_type": "markdown",
   "metadata": {},
   "source": [
    "## 1. Collect the maps from the folder \"maps\""
   ]
  },
  {
   "cell_type": "code",
   "execution_count": 5,
   "metadata": {},
   "outputs": [],
   "source": [
    "# create the list of maps and exclude some if needed\n",
    "#code to create the list of maps and to print the number of georeferenced maps out of the total\n",
    "\n",
    "MAIN_FOLDER = './maps/' # FOLDER PATH\n",
    "map_folders = os.listdir(MAIN_FOLDER) # READ THE FOLDER PATH AND GET THE LIST OF THE FOLDERS INSIDE\n",
    "map_folders = [x for x in map_folders if x != '.DS_Store'] # REMOVE THE .DS_STORE FILE\n",
    "                 \n",
    "map_list = []\n",
    "for folder in map_folders:\n",
    "    if os.path.exists(MAIN_FOLDER+folder+'/'):\n",
    "        map_files = [x for x in os.listdir(MAIN_FOLDER+folder+'/') if x != '.DS_Store'] # REMOVE THE .DS_STORE FILE\n",
    "        objects_to_collect = {} # dictionary to store the map subfiles to collects\n",
    "        year = folder.split('_')[0]\n",
    "        auth = folder.split('_')[1]\n",
    "        name_parts = folder.split('_')\n",
    "        \n",
    "        if len(name_parts) == 3:\n",
    "            try:\n",
    "                int(name_parts[2])\n",
    "                number = name_parts[2]\n",
    "                name = auth + '_' + year + '_' + number\n",
    "            except:\n",
    "                name = auth + '_' + name_parts[2] + '_' + year\n",
    "        else:\n",
    "            name = auth + '_' + year\n",
    "  \n",
    "        for file in map_files:\n",
    "            if file.endswith(name + '.png') or file.endswith(name + '.jpg') or file.endswith(name + '.tif') or file.endswith(name + '.pdf') or file.endswith(name + '.jpeg') or file.endswith(name + '.tiff'):\n",
    "                image_path = MAIN_FOLDER+folder+'/'+file\n",
    "                objects_to_collect['image_path'] = image_path\n",
    "\n",
    "            if file.endswith('.points'):\n",
    "                file_path = MAIN_FOLDER+folder+'/'+file\n",
    "                first_row = pd.read_csv(file_path, nrows=1, delimiter=',')\n",
    "                points = pd.read_csv(file_path, skiprows=1, delimiter = ',') \n",
    "                crs_info = str(first_row.columns)\n",
    "                epsg_code = comparison.extract_epsg(crs_info)  # Extract EPSG code using the new function\n",
    "\n",
    "                #append the image to the image list while associating it with the folder name\n",
    "                objects_to_collect['points'] = points\n",
    "                objects_to_collect['folder'] = folder\n",
    "                objects_to_collect['folder_path']=MAIN_FOLDER+folder+'/'\n",
    "                objects_to_collect['epsg'] = epsg_code\n",
    "            if file.endswith('metadata.json'):\n",
    "                #read the json metadata file\n",
    "                \n",
    "                with open(MAIN_FOLDER+folder+'/'+file) as json_file:\n",
    "                    try:\n",
    "                        metadata = json.load(json_file)\n",
    "                        objects_to_collect['metadata'] = metadata\n",
    "                    except:\n",
    "                        continue\n",
    "        if len(objects_to_collect) == 6:\n",
    "            \n",
    "            map_list.append(objects_to_collect)  \n",
    "            #print(objects_to_collect['folder'])\n"
   ]
  },
  {
   "cell_type": "markdown",
   "metadata": {},
   "source": [
    "## 2. Create the map objects:"
   ]
  },
  {
   "cell_type": "code",
   "execution_count": 6,
   "metadata": {},
   "outputs": [],
   "source": [
    "#CODE TO CREATE THE MAP objects\n",
    "grid_size = 20\n",
    "maps = [comparison.create_map_object(map_info, grid_size) for map_info in map_list]"
   ]
  },
  {
   "cell_type": "markdown",
   "metadata": {},
   "source": [
    "## 3. Create graphs for all maps:"
   ]
  },
  {
   "cell_type": "code",
   "execution_count": null,
   "metadata": {},
   "outputs": [],
   "source": []
  }
 ],
 "metadata": {
  "kernelspec": {
   "display_name": "Cartogenealogy",
   "language": "python",
   "name": "cartogenealogy"
  },
  "language_info": {
   "codemirror_mode": {
    "name": "ipython",
    "version": 3
   },
   "file_extension": ".py",
   "mimetype": "text/x-python",
   "name": "python",
   "nbconvert_exporter": "python",
   "pygments_lexer": "ipython3",
   "version": "3.12.2"
  }
 },
 "nbformat": 4,
 "nbformat_minor": 2
}
